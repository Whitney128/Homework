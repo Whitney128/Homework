{
 "cells": [
  {
   "cell_type": "code",
   "execution_count": 2,
   "metadata": {},
   "outputs": [],
   "source": [
    "#! pip install citipy"
   ]
  },
  {
   "cell_type": "code",
   "execution_count": 3,
   "metadata": {},
   "outputs": [],
   "source": [
    "import matplotlib.pyplot as plt\n",
    "import json\n",
    "import pandas as pd\n",
    "import numpy as np\n",
    "import requests\n",
    "import time\n",
    "import scipy.stats as st\n",
    "from scipy.stats import linregress\n",
    "from Config import weather_api_key\n",
    "\n",
    "from citipy import citipy\n",
    "output_data_file = \"output_data/cities.csv\"\n",
    "lat_range = (-90, 90)\n",
    "lng_range = (-180, 180)"
   ]
  },
  {
   "cell_type": "code",
   "execution_count": 4,
   "metadata": {},
   "outputs": [
    {
     "data": {
      "text/plain": [
       "603"
      ]
     },
     "execution_count": 4,
     "metadata": {},
     "output_type": "execute_result"
    }
   ],
   "source": [
    " # List for holding lat_lngs and cities\n",
    "lat_lngs = []\n",
    "cities = []\n",
    "\n",
    "# Create a set of random lat and lng combinations\n",
    "lats = np.random.uniform(lat_range[0], lat_range[1], size=1500)\n",
    "lngs = np.random.uniform(lng_range[0], lng_range[1], size=1500)\n",
    "lat_lngs = zip(lats, lngs)\n",
    "\n",
    "# Identify nearest city for each lat, lng combination\n",
    "for lat_lng in lat_lngs:\n",
    "    city = citipy.nearest_city(lat_lng[0], lat_lng[1]).city_name\n",
    "    \n",
    "    # If the city is unique, then add it to a our cities list\n",
    "    if city not in cities:\n",
    "        cities.append(city)\n",
    "\n",
    "# Print the city count to confirm sufficient count\n",
    "len(cities)"
   ]
  },
  {
   "cell_type": "code",
   "execution_count": 5,
   "metadata": {},
   "outputs": [],
   "source": [
    "city_name = []\n",
    "lattitude = []\n",
    "longitude = []\n",
    "max_temp = []\n",
    "humidity = []\n",
    "cloudiness = []\n",
    "wind_speed = []\n",
    "country = []\n",
    "date = []\n",
    "index_counter = 0\n",
    "set_counter = 1 "
   ]
  },
  {
   "cell_type": "code",
   "execution_count": null,
   "metadata": {
    "scrolled": false
   },
   "outputs": [
    {
     "name": "stdout",
     "output_type": "stream",
     "text": [
      "Beginning Data Retrieval \n",
      "-----------------------------\n",
      "Processing Record 1 of Set 1 : punta arenas\n",
      "Processing Record 2 of Set 1 : barrow\n",
      "Processing Record 3 of Set 1 : arraial do cabo\n",
      "Processing Record 4 of Set 1 : tuatapere\n",
      "Processing Record 5 of Set 1 : dwarka\n",
      "Processing Record 6 of Set 1 : solone\n",
      "Processing Record 7 of Set 1 : bengkulu\n",
      "Processing Record 8 of Set 1 : chokurdakh\n",
      "Processing Record 9 of Set 1 : mataura\n",
      "Processing Record 10 of Set 1 : te anau\n",
      "Processing Record 11 of Set 1 : puerto leguizamo\n",
      "Processing Record 12 of Set 1 : mabaruma\n",
      "Processing Record 13 of Set 1 : kodiak\n",
      "Processing Record 14 of Set 1 : richards bay\n",
      "Processing Record 15 of Set 1 : rikitea\n",
      "Processing Record 16 of Set 1 : dikson\n",
      "Processing Record 17 of Set 1 : hithadhoo\n",
      "Processing Record 18 of Set 1 : solvychegodsk\n",
      "Processing Record 19 of Set 1 : carnarvon\n",
      "Processing Record 20 of Set 1 : werda\n",
      "Processing Record 21 of Set 1 : zhigansk\n",
      "Processing Record 22 of Set 1 : anloga\n",
      "City not found. Skipping...\n",
      "Processing Record 23 of Set 1 : adamovka\n",
      "Processing Record 24 of Set 1 : saint anthony\n",
      "Processing Record 25 of Set 1 : atuona\n",
      "Processing Record 26 of Set 1 : maine-soroa\n",
      "Processing Record 27 of Set 1 : namie\n",
      "Processing Record 28 of Set 1 : general pico\n",
      "Processing Record 29 of Set 1 : saint-augustin\n",
      "Processing Record 30 of Set 1 : mangai\n",
      "Processing Record 31 of Set 1 : filadelfia\n",
      "Processing Record 32 of Set 1 : ambilobe\n",
      "City not found. Skipping...\n",
      "Processing Record 33 of Set 1 : saldanha\n",
      "Processing Record 34 of Set 1 : trelew\n",
      "Processing Record 35 of Set 1 : saint-philippe\n",
      "Processing Record 36 of Set 1 : fortuna\n",
      "Processing Record 37 of Set 1 : vaini\n",
      "Processing Record 38 of Set 1 : albany\n",
      "Processing Record 39 of Set 1 : mount isa\n",
      "Processing Record 40 of Set 1 : kaitangata\n",
      "Processing Record 41 of Set 1 : khatanga\n",
      "Processing Record 42 of Set 1 : hobart\n",
      "Processing Record 43 of Set 1 : namibe\n",
      "Processing Record 44 of Set 1 : ushuaia\n",
      "Processing Record 45 of Set 1 : hermanus\n",
      "Processing Record 46 of Set 1 : joensuu\n",
      "Processing Record 47 of Set 1 : bluff\n",
      "Processing Record 48 of Set 1 : tual\n",
      "Processing Record 49 of Set 1 : ust-maya\n",
      "Processing Record 50 of Set 1 : doha\n",
      "Processing Record 0 of Set 2 : hojai\n",
      "Processing Record 1 of Set 2 : botwood\n",
      "Processing Record 2 of Set 2 : mayo\n",
      "Processing Record 3 of Set 2 : mihalyi\n",
      "Processing Record 4 of Set 2 : komsomolskiy\n",
      "Processing Record 5 of Set 2 : natitingou\n",
      "Processing Record 6 of Set 2 : busselton\n",
      "Processing Record 7 of Set 2 : qaanaaq\n",
      "Processing Record 8 of Set 2 : cam ranh\n",
      "Processing Record 9 of Set 2 : thompson\n",
      "Processing Record 10 of Set 2 : bundaberg\n",
      "Processing Record 11 of Set 2 : roald\n",
      "Processing Record 12 of Set 2 : jamestown\n",
      "Processing Record 13 of Set 2 : madang\n",
      "Processing Record 14 of Set 2 : mehamn\n",
      "City not found. Skipping...\n",
      "Processing Record 15 of Set 2 : ossora\n",
      "Processing Record 16 of Set 2 : tura\n",
      "Processing Record 17 of Set 2 : cape town\n",
      "Processing Record 18 of Set 2 : longyearbyen\n",
      "Processing Record 19 of Set 2 : torbay\n",
      "Processing Record 20 of Set 2 : port elizabeth\n",
      "Processing Record 21 of Set 2 : mahebourg\n",
      "Processing Record 22 of Set 2 : hereford\n",
      "Processing Record 23 of Set 2 : jackson\n",
      "Processing Record 24 of Set 2 : east london\n",
      "Processing Record 25 of Set 2 : lavrentiya\n",
      "Processing Record 26 of Set 2 : kapustin yar\n",
      "Processing Record 27 of Set 2 : port alfred\n",
      "Processing Record 28 of Set 2 : nanortalik\n",
      "Processing Record 29 of Set 2 : tucuman\n",
      "City not found. Skipping...\n",
      "Processing Record 30 of Set 2 : hilo\n",
      "Processing Record 31 of Set 2 : upernavik\n",
      "Processing Record 32 of Set 2 : provideniya\n",
      "Processing Record 33 of Set 2 : bathsheba\n",
      "Processing Record 34 of Set 2 : esperance\n",
      "Processing Record 35 of Set 2 : binzhou\n",
      "Processing Record 36 of Set 2 : sechura\n",
      "Processing Record 37 of Set 2 : new norfolk\n",
      "Processing Record 38 of Set 2 : belmonte\n",
      "Processing Record 39 of Set 2 : ulladulla\n",
      "Processing Record 40 of Set 2 : avarua\n",
      "City not found. Skipping...\n",
      "Processing Record 41 of Set 2 : lashio\n",
      "Processing Record 42 of Set 2 : nhamunda\n",
      "Processing Record 43 of Set 2 : along\n",
      "Processing Record 44 of Set 2 : launceston\n",
      "Processing Record 45 of Set 2 : alice springs\n",
      "Processing Record 46 of Set 2 : dawei\n",
      "Processing Record 47 of Set 2 : husavik\n",
      "Processing Record 48 of Set 2 : iqaluit\n",
      "Processing Record 49 of Set 2 : polunochnoye\n",
      "Processing Record 50 of Set 2 : pangoa\n",
      "Processing Record 0 of Set 3 : naze\n",
      "Processing Record 1 of Set 3 : arlit\n",
      "Processing Record 2 of Set 3 : constitucion\n",
      "Processing Record 3 of Set 3 : merauke\n",
      "Processing Record 4 of Set 3 : sorland\n",
      "City not found. Skipping...\n",
      "Processing Record 5 of Set 3 : astana\n",
      "Processing Record 6 of Set 3 : lagoa\n",
      "Processing Record 7 of Set 3 : dudinka\n",
      "Processing Record 8 of Set 3 : rio grande\n",
      "City not found. Skipping...\n",
      "Processing Record 9 of Set 3 : saint george\n",
      "Processing Record 10 of Set 3 : riyadh\n",
      "Processing Record 11 of Set 3 : caborca\n",
      "Processing Record 12 of Set 3 : leningradskiy\n",
      "Processing Record 13 of Set 3 : narsaq\n",
      "Processing Record 14 of Set 3 : vostok\n",
      "Processing Record 15 of Set 3 : ribeira brava\n",
      "City not found. Skipping...\n",
      "Processing Record 16 of Set 3 : the pas\n",
      "Processing Record 17 of Set 3 : tuktoyaktuk\n",
      "Processing Record 18 of Set 3 : coracora\n",
      "Processing Record 19 of Set 3 : ribeira grande\n",
      "Processing Record 20 of Set 3 : ponta do sol\n",
      "Processing Record 21 of Set 3 : cabo san lucas\n",
      "Processing Record 22 of Set 3 : buchanan\n",
      "Processing Record 23 of Set 3 : hasaki\n",
      "Processing Record 24 of Set 3 : beringovskiy\n",
      "Processing Record 25 of Set 3 : grootfontein\n",
      "Processing Record 26 of Set 3 : igarka\n",
      "Processing Record 27 of Set 3 : bredasdorp\n",
      "Processing Record 28 of Set 3 : luderitz\n",
      "Processing Record 29 of Set 3 : mozarlandia\n",
      "Processing Record 30 of Set 3 : zhangjiakou\n",
      "Processing Record 31 of Set 3 : cherskiy\n",
      "Processing Record 32 of Set 3 : zhezkazgan\n",
      "Processing Record 33 of Set 3 : avera\n",
      "Processing Record 34 of Set 3 : georgetown\n",
      "Processing Record 35 of Set 3 : puerto del rosario\n",
      "City not found. Skipping...\n",
      "Processing Record 36 of Set 3 : roma\n",
      "Processing Record 37 of Set 3 : sao miguel do tapuio\n",
      "Processing Record 38 of Set 3 : araouane\n",
      "City not found. Skipping...\n",
      "Processing Record 39 of Set 3 : port hardy\n",
      "Processing Record 40 of Set 3 : mar del plata\n",
      "Processing Record 41 of Set 3 : yulara\n",
      "Processing Record 42 of Set 3 : tabuk\n",
      "Processing Record 43 of Set 3 : sofiyivka\n",
      "Processing Record 44 of Set 3 : urumqi\n",
      "Processing Record 45 of Set 3 : kampene\n",
      "Processing Record 46 of Set 3 : deputatskiy\n",
      "Processing Record 47 of Set 3 : guerrero negro\n",
      "Processing Record 48 of Set 3 : faanui\n",
      "City not found. Skipping...\n",
      "Processing Record 49 of Set 3 : hudson bay\n",
      "Processing Record 50 of Set 3 : lebu\n",
      "Processing Record 0 of Set 4 : diffa\n",
      "Processing Record 1 of Set 4 : mujiayingzi\n",
      "Processing Record 2 of Set 4 : karlskoga\n",
      "City not found. Skipping...\n",
      "Processing Record 3 of Set 4 : yatou\n",
      "Processing Record 4 of Set 4 : san andres\n",
      "City not found. Skipping...\n",
      "Processing Record 5 of Set 4 : warburton\n",
      "Processing Record 6 of Set 4 : castro\n",
      "Processing Record 7 of Set 4 : amalapuram\n",
      "City not found. Skipping...\n"
     ]
    }
   ],
   "source": [
    "#Perform a weather check on each city using a series of successive API calls.\n",
    "#Include a print log of each city as it'sbeing processed (with the city number and city name).\n",
    "print(\"Beginning Data Retrieval \")\n",
    "print(\"-----------------------------\")\n",
    "\n",
    "base_url = \"http://api.openweathermap.org/data/2.5/weather?\"\n",
    "units = \"imperial\"\n",
    "query_url = f\"{base_url}appid={weather_api_key}&units={units}&q=\"\n",
    "\n",
    "\n",
    "# Cities\n",
    "for index, city in enumerate(cities, start = 1):\n",
    "    try:\n",
    "        response = requests.get(query_url + city).json()\n",
    "        city_name.append(response[\"name\"])\n",
    "        lattitude.append(response[\"coord\"][\"lat\"])\n",
    "        longitude.append(response[\"coord\"][\"lon\"])\n",
    "        max_temp.append(response['main']['temp_max'])\n",
    "        humidity.append(response[\"main\"][\"humidity\"])\n",
    "        cloudiness.append(response[\"clouds\"][\"all\"])\n",
    "        wind_speed.append(response[\"wind\"][\"speed\"])\n",
    "        country.append(response[\"sys\"][\"country\"])\n",
    "        date.append(response[\"dt\"])\n",
    "        if index_counter > 49:\n",
    "            index_counter = 0\n",
    "            set_counter = set_counter + 1\n",
    "    \n",
    "        else:\n",
    "            index_counter = index_counter + 1\n",
    "            \n",
    "        print(f\"Processing Record {index_counter} of Set {set_counter} : {city}\") \n",
    "  \n",
    "    except(KeyError, IndexError):\n",
    "        \n",
    "        print(\"City not found. Skipping...\")\n",
    "\n",
    "print(\"-----------------------------\")\n",
    "print(\"Data Retrieval Complete\")\n",
    "print(\"-----------------------------\") "
   ]
  },
  {
   "cell_type": "code",
   "execution_count": null,
   "metadata": {},
   "outputs": [],
   "source": [
    "weather_df = pd.DataFrame({ \n",
    "                \"City\" : city_name,\n",
    "                \"Lat\" : lattitude,\n",
    "                \"Lng\" : longitude,\n",
    "                \"Max Temp\" : max_temp,\n",
    "                \"Humidity\" : humidity,\n",
    "                \"Cloudiness\" : cloudiness,\n",
    "                \"Wind Speed\" : wind_speed,\n",
    "                \"Country\" : country,\n",
    "                \"Date\" : date,\n",
    "})"
   ]
  },
  {
   "cell_type": "code",
   "execution_count": null,
   "metadata": {},
   "outputs": [],
   "source": [
    "#Export the city data into a .csv.\n",
    "weather_df.count()"
   ]
  },
  {
   "cell_type": "code",
   "execution_count": null,
   "metadata": {},
   "outputs": [],
   "source": [
    "#.csv\n",
    "weather_df.to_csv(\"output_data/cities.csv\", index = False)"
   ]
  },
  {
   "cell_type": "code",
   "execution_count": null,
   "metadata": {},
   "outputs": [],
   "source": [
    "#Display the DataFrame\n",
    "weather_df.head()"
   ]
  },
  {
   "cell_type": "code",
   "execution_count": null,
   "metadata": {},
   "outputs": [],
   "source": [
    " #Inspect the data and remove the cities where the humidity > 100%.\n",
    "Humidity_df = weather_df['Humidity'].loc[weather_df['Humidity']>100]\n",
    "Humidity_df\n",
    "\n",
    "#Skip this step if there are no cities that have humidity > 100%."
   ]
  },
  {
   "cell_type": "markdown",
   "metadata": {},
   "source": [
    "#  Get the indices of cities that have humidity over 100%.\n",
    "There are no cities that have humidity over 100%"
   ]
  },
  {
   "cell_type": "code",
   "execution_count": null,
   "metadata": {},
   "outputs": [],
   "source": [
    " #Latitude vs. Temperature Plot\n",
    "    \n",
    "plt.scatter(weather_df[\"Lat\"], weather_df[\"Max Temp\"], facecolor = \"steelblue\", edgecolor = \"black\")\n",
    "\n",
    "plt.title(\"City Latitude vs. Max Temperature (04/01/20)\")\n",
    "plt.xlabel(\"Laitude\")\n",
    "plt.ylabel(\"Max Temperature (F)\")\n",
    "plt.grid(linestyle='-', linewidth=1, alpha = 0.5)\n",
    "\n",
    "# Save the plotted figure as .pngs\n",
    "plt.savefig(\"Latitude vs Max Temperature.png\")"
   ]
  },
  {
   "cell_type": "markdown",
   "metadata": {},
   "source": [
    "This code is finding City Latitude vs. Max Temp. The Max temp seems to be inbetween 20 and 40 latitude"
   ]
  },
  {
   "cell_type": "code",
   "execution_count": null,
   "metadata": {},
   "outputs": [],
   "source": [
    "#Latitude vs. Humidity Plot\n",
    "\n",
    "plt.scatter(weather_df[\"Lat\"], weather_df[\"Humidity\"], facecolor = \"steelblue\", edgecolor = \"black\")\n",
    "\n",
    "plt.title(\"City Latitude vs. Humidity (04/01/20)\")\n",
    "plt.xlabel(\"Laitude\")\n",
    "plt.ylabel(\"Humidity (%)\")\n",
    "plt.grid(linestyle='-', linewidth=1, alpha = 0.5)\n",
    "\n",
    "# Save the plotted figure as .pngs\n",
    "plt.savefig(\"Latitude vs Humidity.png\")"
   ]
  },
  {
   "cell_type": "markdown",
   "metadata": {},
   "source": [
    "Finding the greatest humidity point. It seems to be a giant cluser from -40 to the middle of 60 and 80 lattitude of 60% humidity and above "
   ]
  },
  {
   "cell_type": "code",
   "execution_count": null,
   "metadata": {},
   "outputs": [],
   "source": [
    " #Latitude vs. Cloudiness Plot\n",
    "plt.scatter(weather_df[\"Lat\"], weather_df[\"Cloudiness\"], facecolor = \"steelblue\", edgecolor = \"black\")\n",
    "\n",
    "plt.title(\"City Latitude vs. Cloudiness (04/01/20)\")\n",
    "plt.xlabel(\"Laitude\")\n",
    "plt.ylabel(\"Cloudiness (%)\")\n",
    "plt.ylim(-5,105)\n",
    "plt.grid(linestyle='-', linewidth=1, alpha = 0.5)\n",
    "\n",
    "# Save the plotted figure as .pngs\n",
    "plt.savefig(\"Latitude vs Cloudiness.png\")"
   ]
  },
  {
   "cell_type": "code",
   "execution_count": null,
   "metadata": {},
   "outputs": [],
   "source": [
    " #Latitude vs. Wind Speed Plot\n",
    "plt.scatter(weather_df[\"Lat\"], weather_df[\"Wind Speed\"], facecolor = \"steelblue\", edgecolor = \"black\")\n",
    "\n",
    "plt.title(\"City Latitude vs. Wind Speed (mph) (04/01/20)\")\n",
    "plt.xlabel(\"Laitude\")\n",
    "plt.ylabel(\"Wind Speed (%)\")\n",
    "plt.ylim(-2,50)\n",
    "plt.grid(linestyle='-', linewidth=1, alpha = 0.5)\n",
    "\n",
    "# Save the plotted figure as .pngs\n",
    "plt.savefig(\"Latitude vs Wind Speed (mph).png\")"
   ]
  },
  {
   "cell_type": "markdown",
   "metadata": {},
   "source": [
    "City Latitude vs wind speed For the cities within -60 to 80 laitude seem to not have much of a wind speed that goes above 20%"
   ]
  },
  {
   "cell_type": "code",
   "execution_count": null,
   "metadata": {},
   "outputs": [],
   "source": [
    " #Linear Regression\n",
    " # OPTIONAL: Create a function to create Linear Regression plots"
   ]
  },
  {
   "cell_type": "code",
   "execution_count": null,
   "metadata": {},
   "outputs": [],
   "source": [
    "# Create Northern and Southern Hemisphere DataFrames\n",
    "northern_hemisphere = weather_df.loc[weather_df[\"Lat\"] >= 0]\n",
    "southern_hemisphere = weather_df.loc[weather_df[\"Lat\"] < 0]"
   ]
  },
  {
   "cell_type": "code",
   "execution_count": null,
   "metadata": {},
   "outputs": [],
   "source": [
    "#regression start for plots\n",
    "def linear_agression(x,y):\n",
    "    print(f\"The r-squared is : {round(st.pearsonr(x, y)[0],2)}\")\n",
    "    (slope, intercept, rvalue, pvalue, stderr) = linregress(x, y)\n",
    "    regress_values = x * slope + intercept\n",
    "    line_eq = \"y = \" + str(round(slope,2)) + \"x + \" + str(round(intercept,2))\n",
    "    plt.scatter(x, y)\n",
    "    plt.plot(x,regress_values,\"r-\")\n",
    "    return line_eq\n",
    "\n",
    "# Define a fuction for annotating\n",
    "def annotate(line_eq, a, b):\n",
    "    plt.annotate(line_eq,(a,b),fontsize=15,color=\"red\")"
   ]
  },
  {
   "cell_type": "code",
   "execution_count": null,
   "metadata": {},
   "outputs": [],
   "source": [
    "#Northern Hemisphere - Max Temp vs. Latitude Linear Regression\n",
    "equation = linear_agression(northern_hemisphere[\"Lat\"], northern_hemisphere[\"Max Temp\"])\n",
    "\n",
    "annotate(equation, 0, 0)\n",
    "\n",
    "plt.title(\"Northern Hemisphere - Max Temp vs. Latitude Linear Regression\")\n",
    "plt.xlabel(\"Latitude\")\n",
    "plt.ylabel(\"Max Temp (F)\")\n",
    "\n",
    "# Save the figure\n",
    "plt.savefig(\"Northern Hemisphere - Max Temp vs. Latitude Linear Regression.png\")"
   ]
  },
  {
   "cell_type": "code",
   "execution_count": null,
   "metadata": {},
   "outputs": [],
   "source": [
    "#Southern Hemisphere - Max Temp vs. Latitude Linear Regression\n",
    "equation = linear_agression(southern_hemisphere[\"Lat\"],southern_hemisphere[\"Max Temp\"])\n",
    "\n",
    "annotate(equation, -30, 50)\n",
    "\n",
    "plt.title(\"Southern Hemisphere - Max Temp vs. Latitude Linear Regression\")\n",
    "plt.xlabel(\"Latitude\")\n",
    "plt.ylabel(\"Max Temp (F)\")\n",
    "\n",
    "# Save the figure\n",
    "plt.savefig(\"Southern Hemisphere - Max Temp vs. Latitude Linear Regression.png\")"
   ]
  },
  {
   "cell_type": "markdown",
   "metadata": {},
   "source": [
    "Northern vs Southern Max Temp vs Latitude Linear Regression:They seem to be going in opposite directions"
   ]
  },
  {
   "cell_type": "code",
   "execution_count": null,
   "metadata": {},
   "outputs": [],
   "source": [
    " #Northern Hemisphere - Humidity (%) vs. Latitude Linear Regression\n",
    "equation = linear_agression(northern_hemisphere[\"Lat\"], northern_hemisphere[\"Humidity\"])\n",
    "\n",
    "annotate(equation, 40, 15)\n",
    "\n",
    "plt.title(\"Northern Hemisphere - Humidity (%) vs. Latitude Linear Regression\")\n",
    "plt.xlabel(\"Latitude\")\n",
    "plt.ylabel(\"Humidity (%)\")\n",
    "\n",
    "# Save the figure\n",
    "plt.savefig(\"Northern Hemisphere - Humidity (%) vs. Latitude Linear Regression.png\")"
   ]
  },
  {
   "cell_type": "code",
   "execution_count": null,
   "metadata": {},
   "outputs": [],
   "source": [
    "#Southern Hemisphere - Humidity (%) vs. Latitude Linear Regression\n",
    "equation = linear_agression(southern_hemisphere[\"Lat\"], southern_hemisphere[\"Humidity\"])\n",
    "\n",
    "annotate(equation, -40, 50)\n",
    "\n",
    "plt.title(\"Southern Hemisphere - Humidity (%) vs. Latitude Linear Regression\")\n",
    "plt.xlabel(\"Latitude\")\n",
    "plt.ylabel(\"Humidity (%)\")\n",
    "\n",
    "# Save the figure\n",
    "plt.savefig(\"Southern Hemisphere - Humidity (%) vs. Latitude Linear Regression.png\")"
   ]
  },
  {
   "cell_type": "markdown",
   "metadata": {},
   "source": [
    "Northern vs Southern Humidity Linear Regression: There is much more humidity in the north then in the south"
   ]
  },
  {
   "cell_type": "code",
   "execution_count": null,
   "metadata": {},
   "outputs": [],
   "source": [
    " #Northern Hemisphere - Cloudiness (%) vs. Latitude Linear Regression\n",
    "equation = linear_agression(northern_hemisphere[\"Lat\"], northern_hemisphere[\"Cloudiness\"])\n",
    "\n",
    "annotate(equation, 30, 40)\n",
    "\n",
    "plt.title(\"Northern Hemisphere - Cloudiness (%) vs. Latitude Linear Regression\")\n",
    "plt.xlabel(\"Latitude\")\n",
    "plt.ylabel(\"Cloudiness (%)\")\n",
    "\n",
    "# Save the figure\n",
    "plt.savefig(\"Northern Hemisphere - Cloudiness (%) vs. Latitude Linear Regression.png\")"
   ]
  },
  {
   "cell_type": "code",
   "execution_count": null,
   "metadata": {},
   "outputs": [],
   "source": [
    " #Southern Hemisphere - Cloudiness (%) vs. Latitude Linear Regression\n",
    "equation = linear_agression(southern_hemisphere[\"Lat\"], southern_hemisphere[\"Cloudiness\"])\n",
    "\n",
    "annotate(equation, -30, 40)\n",
    "\n",
    "plt.title(\"Southern Hemisphere - Cloudiness (%) vs. Latitude Linear Regression\")\n",
    "plt.xlabel(\"Latitude\")\n",
    "plt.ylabel(\"Cloudiness (%)\")\n",
    "\n",
    "# Save the figure\n",
    "plt.savefig(\"Southern Hemisphere - Cloudiness (%) vs. Latitude Linear Regression.png\")"
   ]
  },
  {
   "cell_type": "markdown",
   "metadata": {},
   "source": [
    "Northern vs Souther Cloudiness Linear Regression: Seems to look like there is more cloudiness in the north then in the south"
   ]
  },
  {
   "cell_type": "code",
   "execution_count": null,
   "metadata": {},
   "outputs": [],
   "source": [
    " #Northern Hemisphere - Wind Speed (mph) vs. Latitude Linear Regression\n",
    "equation = linear_agression(northern_hemisphere[\"Lat\"], northern_hemisphere[\"Wind Speed\"])\n",
    "\n",
    "annotate(equation, 40, 20)\n",
    "\n",
    "plt.title(\"Northern Hemisphere - Wind Speed (mph) vs. Latitude Linear Regression\")\n",
    "plt.xlabel(\"Latitude\")\n",
    "plt.ylabel(\"Wind Speed (mph)\")\n",
    "\n",
    "# Save the figure\n",
    "plt.savefig(\"Northern Hemisphere - Wind Speed vs. Latitude Linear Regression.png\")"
   ]
  },
  {
   "cell_type": "code",
   "execution_count": null,
   "metadata": {},
   "outputs": [],
   "source": [
    "#Southern Hemisphere - Wind Speed (mph) vs. Latitude Linear Regression\n",
    "equation = linear_agression(southern_hemisphere[\"Lat\"], southern_hemisphere[\"Wind Speed\"])\n",
    "\n",
    "annotate(equation, -30, 15)\n",
    "\n",
    "plt.title(\"Southern Hemisphere - Wind Speed (mph) vs. Latitude Linear Regression\")\n",
    "plt.xlabel(\"Latitude\")\n",
    "plt.ylabel(\"Wind Speed (mph)\")\n",
    "\n",
    "# Save the figure\n",
    "plt.savefig(\"Southern Hemisphere - Wind Speed vs. Latitude Linear Regression.png\")"
   ]
  },
  {
   "cell_type": "markdown",
   "metadata": {},
   "source": [
    "Northern vs Southern Wind Speed Linear Regression: Wind speed in the north seems to be mostly under 10mph while the south is more spread out to have low and higher wind speeds."
   ]
  },
  {
   "cell_type": "code",
   "execution_count": null,
   "metadata": {},
   "outputs": [],
   "source": []
  }
 ],
 "metadata": {
  "kernelspec": {
   "display_name": "Python 3",
   "language": "python",
   "name": "python3"
  },
  "language_info": {
   "codemirror_mode": {
    "name": "ipython",
    "version": 3
   },
   "file_extension": ".py",
   "mimetype": "text/x-python",
   "name": "python",
   "nbconvert_exporter": "python",
   "pygments_lexer": "ipython3",
   "version": "3.7.6"
  }
 },
 "nbformat": 4,
 "nbformat_minor": 4
}
